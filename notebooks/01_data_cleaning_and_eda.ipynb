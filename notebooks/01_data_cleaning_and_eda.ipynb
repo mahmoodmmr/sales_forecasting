{
 "cells": [
  {
   "cell_type": "code",
   "execution_count": 25,
   "metadata": {},
   "outputs": [],
   "source": [
    "import pandas as pd\n",
    "import numpy as np\n",
    "\n",
    "import seaborn as sns\n",
    "import matplotlib.pyplot as plt\n",
    "import matplotlib.dates as mdates\n",
    "%matplotlib inline\n",
    "\n",
    "import datetime\n",
    "\n",
    "import statsmodels.tsa.api as smt"
   ]
  },
  {
   "cell_type": "markdown",
   "metadata": {},
   "source": [
    "# Load and View Data"
   ]
  },
  {
   "cell_type": "code",
   "execution_count": 39,
   "metadata": {},
   "outputs": [],
   "source": [
    "# date,store,item,sales | original data\n",
    "# date:date, store:store, sales:sales | my dataset\n",
    "def load_data():  \n",
    "    # return pd.read_csv('../data/train.csv')  \n",
    "    return pd.read_csv('../data/trainWallmart.csv')  \n",
    "\n",
    "sales_data = load_data()"
   ]
  },
  {
   "cell_type": "code",
   "execution_count": 40,
   "metadata": {},
   "outputs": [
    {
     "name": "stdout",
     "output_type": "stream",
     "text": [
      "<class 'pandas.core.frame.DataFrame'>\n",
      "RangeIndex: 328074 entries, 0 to 328073\n",
      "Data columns (total 14 columns):\n",
      " #   Column                    Non-Null Count   Dtype  \n",
      "---  ------                    --------------   -----  \n",
      " 0   date                      328074 non-null  int64  \n",
      " 1   SHOP_WEEKDAY              328074 non-null  int64  \n",
      " 2   SHOP_HOUR                 328074 non-null  int64  \n",
      " 3   sales                     328074 non-null  int64  \n",
      " 4   SPEND                     328074 non-null  float64\n",
      " 5   item                      328074 non-null  object \n",
      " 6   CUST_LIFESTAGE            228994 non-null  object \n",
      " 7   BASKET_ID                 328074 non-null  int64  \n",
      " 8   BASKET_SIZE               328074 non-null  object \n",
      " 9   BASKET_PRICE_SENSITIVITY  328074 non-null  object \n",
      " 10  BASKET_DOMINANT_MISSION   328074 non-null  object \n",
      " 11  store                     328074 non-null  object \n",
      " 12  STORE_FORMAT              328074 non-null  object \n",
      " 13  STORE_REGION              328074 non-null  object \n",
      "dtypes: float64(1), int64(5), object(8)\n",
      "memory usage: 35.0+ MB\n"
     ]
    }
   ],
   "source": [
    "sales_data.info()"
   ]
  },
  {
   "cell_type": "code",
   "execution_count": 41,
   "metadata": {},
   "outputs": [
    {
     "data": {
      "text/html": [
       "<div>\n",
       "<style scoped>\n",
       "    .dataframe tbody tr th:only-of-type {\n",
       "        vertical-align: middle;\n",
       "    }\n",
       "\n",
       "    .dataframe tbody tr th {\n",
       "        vertical-align: top;\n",
       "    }\n",
       "\n",
       "    .dataframe thead th {\n",
       "        text-align: right;\n",
       "    }\n",
       "</style>\n",
       "<table border=\"1\" class=\"dataframe\">\n",
       "  <thead>\n",
       "    <tr style=\"text-align: right;\">\n",
       "      <th></th>\n",
       "      <th>date</th>\n",
       "      <th>SHOP_WEEKDAY</th>\n",
       "      <th>SHOP_HOUR</th>\n",
       "      <th>sales</th>\n",
       "      <th>SPEND</th>\n",
       "      <th>item</th>\n",
       "      <th>CUST_LIFESTAGE</th>\n",
       "      <th>BASKET_ID</th>\n",
       "      <th>BASKET_SIZE</th>\n",
       "      <th>BASKET_PRICE_SENSITIVITY</th>\n",
       "      <th>BASKET_DOMINANT_MISSION</th>\n",
       "      <th>store</th>\n",
       "      <th>STORE_FORMAT</th>\n",
       "      <th>STORE_REGION</th>\n",
       "    </tr>\n",
       "  </thead>\n",
       "  <tbody>\n",
       "    <tr>\n",
       "      <th>0</th>\n",
       "      <td>20060410</td>\n",
       "      <td>2</td>\n",
       "      <td>14</td>\n",
       "      <td>3</td>\n",
       "      <td>3.03</td>\n",
       "      <td>PRD0900005</td>\n",
       "      <td>NaN</td>\n",
       "      <td>994100100191892</td>\n",
       "      <td>L</td>\n",
       "      <td>LA</td>\n",
       "      <td>Grocery</td>\n",
       "      <td>STORE00015</td>\n",
       "      <td>LS</td>\n",
       "      <td>E02</td>\n",
       "    </tr>\n",
       "    <tr>\n",
       "      <th>1</th>\n",
       "      <td>20060410</td>\n",
       "      <td>2</td>\n",
       "      <td>14</td>\n",
       "      <td>1</td>\n",
       "      <td>1.01</td>\n",
       "      <td>PRD0900005</td>\n",
       "      <td>OT</td>\n",
       "      <td>994100100208819</td>\n",
       "      <td>L</td>\n",
       "      <td>MM</td>\n",
       "      <td>Fresh</td>\n",
       "      <td>STORE00015</td>\n",
       "      <td>LS</td>\n",
       "      <td>E02</td>\n",
       "    </tr>\n",
       "    <tr>\n",
       "      <th>2</th>\n",
       "      <td>20060413</td>\n",
       "      <td>5</td>\n",
       "      <td>21</td>\n",
       "      <td>1</td>\n",
       "      <td>1.01</td>\n",
       "      <td>PRD0900005</td>\n",
       "      <td>OA</td>\n",
       "      <td>994100100234420</td>\n",
       "      <td>L</td>\n",
       "      <td>MM</td>\n",
       "      <td>Mixed</td>\n",
       "      <td>STORE00015</td>\n",
       "      <td>LS</td>\n",
       "      <td>E02</td>\n",
       "    </tr>\n",
       "    <tr>\n",
       "      <th>3</th>\n",
       "      <td>20060411</td>\n",
       "      <td>3</td>\n",
       "      <td>13</td>\n",
       "      <td>1</td>\n",
       "      <td>1.01</td>\n",
       "      <td>PRD0900005</td>\n",
       "      <td>NaN</td>\n",
       "      <td>994100100336132</td>\n",
       "      <td>L</td>\n",
       "      <td>LA</td>\n",
       "      <td>Mixed</td>\n",
       "      <td>STORE00015</td>\n",
       "      <td>LS</td>\n",
       "      <td>E02</td>\n",
       "    </tr>\n",
       "    <tr>\n",
       "      <th>4</th>\n",
       "      <td>20060411</td>\n",
       "      <td>3</td>\n",
       "      <td>19</td>\n",
       "      <td>3</td>\n",
       "      <td>3.03</td>\n",
       "      <td>PRD0900005</td>\n",
       "      <td>OT</td>\n",
       "      <td>994100100361771</td>\n",
       "      <td>L</td>\n",
       "      <td>LA</td>\n",
       "      <td>Mixed</td>\n",
       "      <td>STORE00015</td>\n",
       "      <td>LS</td>\n",
       "      <td>E02</td>\n",
       "    </tr>\n",
       "  </tbody>\n",
       "</table>\n",
       "</div>"
      ],
      "text/plain": [
       "       date  SHOP_WEEKDAY  SHOP_HOUR  sales  SPEND        item CUST_LIFESTAGE  \\\n",
       "0  20060410             2         14      3   3.03  PRD0900005            NaN   \n",
       "1  20060410             2         14      1   1.01  PRD0900005             OT   \n",
       "2  20060413             5         21      1   1.01  PRD0900005             OA   \n",
       "3  20060411             3         13      1   1.01  PRD0900005            NaN   \n",
       "4  20060411             3         19      3   3.03  PRD0900005             OT   \n",
       "\n",
       "         BASKET_ID BASKET_SIZE BASKET_PRICE_SENSITIVITY  \\\n",
       "0  994100100191892           L                       LA   \n",
       "1  994100100208819           L                       MM   \n",
       "2  994100100234420           L                       MM   \n",
       "3  994100100336132           L                       LA   \n",
       "4  994100100361771           L                       LA   \n",
       "\n",
       "  BASKET_DOMINANT_MISSION       store STORE_FORMAT STORE_REGION  \n",
       "0                 Grocery  STORE00015           LS          E02  \n",
       "1                   Fresh  STORE00015           LS          E02  \n",
       "2                   Mixed  STORE00015           LS          E02  \n",
       "3                   Mixed  STORE00015           LS          E02  \n",
       "4                   Mixed  STORE00015           LS          E02  "
      ]
     },
     "execution_count": 41,
     "metadata": {},
     "output_type": "execute_result"
    }
   ],
   "source": [
    "sales_data.head()"
   ]
  },
  {
   "cell_type": "code",
   "execution_count": 42,
   "metadata": {},
   "outputs": [],
   "source": [
    "def daily_sales(data):\n",
    "    # monthly_data = data.copy()\n",
    "    # monthly_data.date = monthly_data.date.apply(lambda x: str(x)[:-3])\n",
    "    # monthly_data = monthly_data.groupby('date')['sales'].sum().reset_index()\n",
    "    # monthly_data.date = pd.to_datetime(monthly_data.date)\n",
    "\n",
    "    # modified\n",
    "    daily_data = data.copy()\n",
    "    daily_data.date = daily_data.date.apply(lambda x: \"\".join([str(x)[:4], \"-\", str(x)[4:6],\"-\", str(x)[6:8]]))\n",
    "    # daily_data.sales = daily_data.sales.apply(lambda x: x)\n",
    "    print(daily_data.date)\n",
    "    daily_data = daily_data.groupby('date')['sales'].sum().reset_index()\n",
    "    daily_data.date = pd.to_datetime(daily_data.date)\n",
    "    # data.to_csv('data/daily_data_modified.csv')\n",
    "    # return data\n",
    "    return daily_data"
   ]
  },
  {
   "cell_type": "code",
   "execution_count": 43,
   "metadata": {},
   "outputs": [
    {
     "name": "stdout",
     "output_type": "stream",
     "text": [
      "0         2006-04-10\n",
      "1         2006-04-10\n",
      "2         2006-04-13\n",
      "3         2006-04-11\n",
      "4         2006-04-11\n",
      "             ...    \n",
      "328069    2006-07-04\n",
      "328070    2006-07-09\n",
      "328071    2006-07-06\n",
      "328072    2006-07-09\n",
      "328073    2006-07-03\n",
      "Name: date, Length: 328074, dtype: object\n"
     ]
    },
    {
     "data": {
      "text/html": [
       "<div>\n",
       "<style scoped>\n",
       "    .dataframe tbody tr th:only-of-type {\n",
       "        vertical-align: middle;\n",
       "    }\n",
       "\n",
       "    .dataframe tbody tr th {\n",
       "        vertical-align: top;\n",
       "    }\n",
       "\n",
       "    .dataframe thead th {\n",
       "        text-align: right;\n",
       "    }\n",
       "</style>\n",
       "<table border=\"1\" class=\"dataframe\">\n",
       "  <thead>\n",
       "    <tr style=\"text-align: right;\">\n",
       "      <th></th>\n",
       "      <th>date</th>\n",
       "      <th>sales</th>\n",
       "    </tr>\n",
       "  </thead>\n",
       "  <tbody>\n",
       "    <tr>\n",
       "      <th>0</th>\n",
       "      <td>2006-04-10</td>\n",
       "      <td>4865</td>\n",
       "    </tr>\n",
       "    <tr>\n",
       "      <th>1</th>\n",
       "      <td>2006-04-11</td>\n",
       "      <td>4707</td>\n",
       "    </tr>\n",
       "    <tr>\n",
       "      <th>2</th>\n",
       "      <td>2006-04-12</td>\n",
       "      <td>5015</td>\n",
       "    </tr>\n",
       "    <tr>\n",
       "      <th>3</th>\n",
       "      <td>2006-04-13</td>\n",
       "      <td>4924</td>\n",
       "    </tr>\n",
       "    <tr>\n",
       "      <th>4</th>\n",
       "      <td>2006-04-14</td>\n",
       "      <td>5014</td>\n",
       "    </tr>\n",
       "  </tbody>\n",
       "</table>\n",
       "</div>"
      ],
      "text/plain": [
       "        date  sales\n",
       "0 2006-04-10   4865\n",
       "1 2006-04-11   4707\n",
       "2 2006-04-12   5015\n",
       "3 2006-04-13   4924\n",
       "4 2006-04-14   5014"
      ]
     },
     "execution_count": 43,
     "metadata": {},
     "output_type": "execute_result"
    }
   ],
   "source": [
    "# monthly_df = daily_sales(sales_data)\n",
    "# monthly_df.head()\n",
    "daily_df = daily_sales(sales_data)\n",
    "daily_df.head()"
   ]
  },
  {
   "cell_type": "markdown",
   "metadata": {
    "heading_collapsed": true
   },
   "source": [
    "# EDA"
   ]
  },
  {
   "cell_type": "code",
   "execution_count": 46,
   "metadata": {
    "hidden": true
   },
   "outputs": [
    {
     "name": "stdout",
     "output_type": "stream",
     "text": [
      "adfasdfasdfasd\n",
      "1970-01-01 00:00:00.020060709\n"
     ]
    },
    {
     "data": {
      "text/html": [
       "<div>\n",
       "<style scoped>\n",
       "    .dataframe tbody tr th:only-of-type {\n",
       "        vertical-align: middle;\n",
       "    }\n",
       "\n",
       "    .dataframe tbody tr th {\n",
       "        vertical-align: top;\n",
       "    }\n",
       "\n",
       "    .dataframe thead th {\n",
       "        text-align: right;\n",
       "    }\n",
       "</style>\n",
       "<table border=\"1\" class=\"dataframe\">\n",
       "  <thead>\n",
       "    <tr style=\"text-align: right;\">\n",
       "      <th></th>\n",
       "      <th>date</th>\n",
       "      <th>SHOP_WEEKDAY</th>\n",
       "      <th>SHOP_HOUR</th>\n",
       "      <th>sales</th>\n",
       "      <th>SPEND</th>\n",
       "      <th>item</th>\n",
       "      <th>CUST_LIFESTAGE</th>\n",
       "      <th>BASKET_ID</th>\n",
       "      <th>BASKET_SIZE</th>\n",
       "      <th>BASKET_PRICE_SENSITIVITY</th>\n",
       "      <th>BASKET_DOMINANT_MISSION</th>\n",
       "      <th>store</th>\n",
       "      <th>STORE_FORMAT</th>\n",
       "      <th>STORE_REGION</th>\n",
       "    </tr>\n",
       "  </thead>\n",
       "  <tbody>\n",
       "    <tr>\n",
       "      <th>0</th>\n",
       "      <td>1970-01-01 00:00:00.020060410</td>\n",
       "      <td>2</td>\n",
       "      <td>14</td>\n",
       "      <td>3</td>\n",
       "      <td>3.03</td>\n",
       "      <td>PRD0900005</td>\n",
       "      <td>NaN</td>\n",
       "      <td>994100100191892</td>\n",
       "      <td>L</td>\n",
       "      <td>LA</td>\n",
       "      <td>Grocery</td>\n",
       "      <td>STORE00015</td>\n",
       "      <td>LS</td>\n",
       "      <td>E02</td>\n",
       "    </tr>\n",
       "    <tr>\n",
       "      <th>1</th>\n",
       "      <td>1970-01-01 00:00:00.020060410</td>\n",
       "      <td>2</td>\n",
       "      <td>14</td>\n",
       "      <td>1</td>\n",
       "      <td>1.01</td>\n",
       "      <td>PRD0900005</td>\n",
       "      <td>OT</td>\n",
       "      <td>994100100208819</td>\n",
       "      <td>L</td>\n",
       "      <td>MM</td>\n",
       "      <td>Fresh</td>\n",
       "      <td>STORE00015</td>\n",
       "      <td>LS</td>\n",
       "      <td>E02</td>\n",
       "    </tr>\n",
       "    <tr>\n",
       "      <th>2</th>\n",
       "      <td>1970-01-01 00:00:00.020060413</td>\n",
       "      <td>5</td>\n",
       "      <td>21</td>\n",
       "      <td>1</td>\n",
       "      <td>1.01</td>\n",
       "      <td>PRD0900005</td>\n",
       "      <td>OA</td>\n",
       "      <td>994100100234420</td>\n",
       "      <td>L</td>\n",
       "      <td>MM</td>\n",
       "      <td>Mixed</td>\n",
       "      <td>STORE00015</td>\n",
       "      <td>LS</td>\n",
       "      <td>E02</td>\n",
       "    </tr>\n",
       "    <tr>\n",
       "      <th>3</th>\n",
       "      <td>1970-01-01 00:00:00.020060411</td>\n",
       "      <td>3</td>\n",
       "      <td>13</td>\n",
       "      <td>1</td>\n",
       "      <td>1.01</td>\n",
       "      <td>PRD0900005</td>\n",
       "      <td>NaN</td>\n",
       "      <td>994100100336132</td>\n",
       "      <td>L</td>\n",
       "      <td>LA</td>\n",
       "      <td>Mixed</td>\n",
       "      <td>STORE00015</td>\n",
       "      <td>LS</td>\n",
       "      <td>E02</td>\n",
       "    </tr>\n",
       "    <tr>\n",
       "      <th>4</th>\n",
       "      <td>1970-01-01 00:00:00.020060411</td>\n",
       "      <td>3</td>\n",
       "      <td>19</td>\n",
       "      <td>3</td>\n",
       "      <td>3.03</td>\n",
       "      <td>PRD0900005</td>\n",
       "      <td>OT</td>\n",
       "      <td>994100100361771</td>\n",
       "      <td>L</td>\n",
       "      <td>LA</td>\n",
       "      <td>Mixed</td>\n",
       "      <td>STORE00015</td>\n",
       "      <td>LS</td>\n",
       "      <td>E02</td>\n",
       "    </tr>\n",
       "  </tbody>\n",
       "</table>\n",
       "</div>"
      ],
      "text/plain": [
       "                           date  SHOP_WEEKDAY  SHOP_HOUR  sales  SPEND  \\\n",
       "0 1970-01-01 00:00:00.020060410             2         14      3   3.03   \n",
       "1 1970-01-01 00:00:00.020060410             2         14      1   1.01   \n",
       "2 1970-01-01 00:00:00.020060413             5         21      1   1.01   \n",
       "3 1970-01-01 00:00:00.020060411             3         13      1   1.01   \n",
       "4 1970-01-01 00:00:00.020060411             3         19      3   3.03   \n",
       "\n",
       "         item CUST_LIFESTAGE        BASKET_ID BASKET_SIZE  \\\n",
       "0  PRD0900005            NaN  994100100191892           L   \n",
       "1  PRD0900005             OT  994100100208819           L   \n",
       "2  PRD0900005             OA  994100100234420           L   \n",
       "3  PRD0900005            NaN  994100100336132           L   \n",
       "4  PRD0900005             OT  994100100361771           L   \n",
       "\n",
       "  BASKET_PRICE_SENSITIVITY BASKET_DOMINANT_MISSION       store STORE_FORMAT  \\\n",
       "0                       LA                 Grocery  STORE00015           LS   \n",
       "1                       MM                   Fresh  STORE00015           LS   \n",
       "2                       MM                   Mixed  STORE00015           LS   \n",
       "3                       LA                   Mixed  STORE00015           LS   \n",
       "4                       LA                   Mixed  STORE00015           LS   \n",
       "\n",
       "  STORE_REGION  \n",
       "0          E02  \n",
       "1          E02  \n",
       "2          E02  \n",
       "3          E02  \n",
       "4          E02  "
      ]
     },
     "execution_count": 46,
     "metadata": {},
     "output_type": "execute_result"
    }
   ],
   "source": [
    "# Duration of dataset\n",
    "# def sales_duration(data):\n",
    "#     # data.date = pd.to_datetime(data.date)\n",
    "#     data.date = pd.to_datetime(arg=data.date, format='%Y-%m-%d')\n",
    "#     # number_of_days = data.date.max() - data.date.min()\n",
    "#     # number_of_years = number_of_days.days / 365\n",
    "#     # print(number_of_days.days, 'days')\n",
    "#     # print(number_of_years, 'years')\n",
    "\n",
    "# sales_duration(sales_data)\n",
    "\n",
    "# sales_data.head()\n"
   ]
  },
  {
   "cell_type": "code",
   "execution_count": 47,
   "metadata": {
    "hidden": true
   },
   "outputs": [
    {
     "data": {
      "image/png": "[encoded data removed]",
      "text/plain": [
       "<Figure size 504x288 with 1 Axes>"
      ]
     },
     "metadata": {
      "needs_background": "light"
     },
     "output_type": "display_data"
    }
   ],
   "source": [
    "def sales_per_day():\n",
    "    fig, ax = plt.subplots(figsize=(7,4))\n",
    "    plt.hist(sales_data.sales, color='mediumblue')\n",
    "    \n",
    "    ax.set(xlabel = \"Sales Per day\",\n",
    "           ylabel = \"Count\",\n",
    "           title = \"Distrobution of Sales Per Day\")\n",
    "    \n",
    "sales_per_day()"
   ]
  },
  {
   "cell_type": "code",
   "execution_count": 48,
   "metadata": {
    "hidden": true
   },
   "outputs": [
    {
     "name": "stderr",
     "output_type": "stream",
     "text": [
      "c:\\Users\\MahmoodThe3rd\\anaconda3\\envs\\py39\\lib\\site-packages\\seaborn\\_decorators.py:36: FutureWarning: Pass the following variables as keyword args: x, y. From version 0.12, the only valid positional argument will be `data`, and passing other arguments without an explicit keyword will result in an error or misinterpretation.\n",
      "  warnings.warn(\n"
     ]
    },
    {
     "data": {
      "image/png": "[encoded data removed]",
      "text/plain": [
       "<Figure size 504x288 with 1 Axes>"
      ]
     },
     "metadata": {
      "needs_background": "light"
     },
     "output_type": "display_data"
    }
   ],
   "source": [
    "def sales_per_store():\n",
    "    by_store = sales_data.groupby('store')['sales'].sum().reset_index()\n",
    "    \n",
    "    fig, ax = plt.subplots(figsize=(7,4))\n",
    "    sns.barplot(by_store.store, by_store.sales, color='mediumblue')\n",
    "    \n",
    "    ax.set(xlabel = \"Store ID\",\n",
    "           ylabel = \"Number of Sales\",\n",
    "           title = \"Total Sales Per Store\")\n",
    "    \n",
    "    sns.despine()\n",
    "    \n",
    "sales_per_store()"
   ]
  },
  {
   "cell_type": "code",
   "execution_count": 49,
   "metadata": {
    "hidden": true
   },
   "outputs": [
    {
     "name": "stdout",
     "output_type": "stream",
     "text": [
      "Overall average monthly sales: $5445.9010989010985\n",
      "Last 12 months average monthly sales: $5603.916666666667\n"
     ]
    }
   ],
   "source": [
    "# Average monthly sales\n",
    "\n",
    "# Overall\n",
    "avg_monthly_sales = monthly_df.sales.mean()\n",
    "print(f\"Overall average monthly sales: ${avg_monthly_sales}\")\n",
    "\n",
    "# Last 12 months (this will be the forecasted sales)\n",
    "avg_monthly_sales_12month = monthly_df.sales[-12:].mean()\n",
    "print(f\"Last 12 months average monthly sales: ${avg_monthly_sales_12month}\")"
   ]
  },
  {
   "cell_type": "markdown",
   "metadata": {},
   "source": [
    "# Determining Stationarity"
   ]
  },
  {
   "cell_type": "code",
   "execution_count": 50,
   "metadata": {},
   "outputs": [],
   "source": [
    "def time_plot(data, x_col, y_col, title):\n",
    "    fig, ax = plt.subplots(figsize=(15,5))\n",
    "    sns.lineplot(x_col, y_col, data=data, ax=ax, color='mediumblue', label='Total Sales')\n",
    "    \n",
    "    second = data.groupby(data.date.dt.year)[y_col].mean().reset_index()\n",
    "    second.date = pd.to_datetime(second.date, format='%Y')\n",
    "    sns.lineplot((second.date + datetime.timedelta(6*365/12)), y_col, data=second, ax=ax, color='red', label='Mean Sales')   \n",
    "    \n",
    "    ax.set(xlabel = \"Date\",\n",
    "           ylabel = \"Sales\",\n",
    "           title = title)\n",
    "    \n",
    "    sns.despine()"
   ]
  },
  {
   "cell_type": "code",
   "execution_count": 51,
   "metadata": {},
   "outputs": [
    {
     "name": "stderr",
     "output_type": "stream",
     "text": [
      "c:\\Users\\MahmoodThe3rd\\anaconda3\\envs\\py39\\lib\\site-packages\\seaborn\\_decorators.py:36: FutureWarning: Pass the following variables as keyword args: x, y. From version 0.12, the only valid positional argument will be `data`, and passing other arguments without an explicit keyword will result in an error or misinterpretation.\n",
      "  warnings.warn(\n",
      "c:\\Users\\MahmoodThe3rd\\anaconda3\\envs\\py39\\lib\\site-packages\\seaborn\\_decorators.py:36: FutureWarning: Pass the following variables as keyword args: x, y. From version 0.12, the only valid positional argument will be `data`, and passing other arguments without an explicit keyword will result in an error or misinterpretation.\n",
      "  warnings.warn(\n"
     ]
    },
    {
     "data": {
      "image/png": "[encoded data removed]",
      "text/plain": [
       "<Figure size 1080x360 with 1 Axes>"
      ]
     },
     "metadata": {
      "needs_background": "light"
     },
     "output_type": "display_data"
    }
   ],
   "source": [
    "time_plot(monthly_df, 'date', 'sales', 'Monthly Sales Before Diff Transformation')"
   ]
  },
  {
   "cell_type": "code",
   "execution_count": 52,
   "metadata": {},
   "outputs": [],
   "source": [
    "def get_diff(data):\n",
    "    data['sales_diff'] = data.sales.diff()\n",
    "    data = data.dropna()\n",
    "    \n",
    "    data.to_csv('../data/stationary_df.csv')\n",
    "    return data"
   ]
  },
  {
   "cell_type": "code",
   "execution_count": 53,
   "metadata": {},
   "outputs": [],
   "source": [
    "stationary_df = get_diff(monthly_df)"
   ]
  },
  {
   "cell_type": "code",
   "execution_count": 54,
   "metadata": {},
   "outputs": [
    {
     "name": "stderr",
     "output_type": "stream",
     "text": [
      "c:\\Users\\MahmoodThe3rd\\anaconda3\\envs\\py39\\lib\\site-packages\\seaborn\\_decorators.py:36: FutureWarning: Pass the following variables as keyword args: x, y. From version 0.12, the only valid positional argument will be `data`, and passing other arguments without an explicit keyword will result in an error or misinterpretation.\n",
      "  warnings.warn(\n",
      "c:\\Users\\MahmoodThe3rd\\anaconda3\\envs\\py39\\lib\\site-packages\\seaborn\\_decorators.py:36: FutureWarning: Pass the following variables as keyword args: x, y. From version 0.12, the only valid positional argument will be `data`, and passing other arguments without an explicit keyword will result in an error or misinterpretation.\n",
      "  warnings.warn(\n"
     ]
    },
    {
     "data": {
      "image/png": "[encoded data removed]",
      "text/plain": [
       "<Figure size 1080x360 with 1 Axes>"
      ]
     },
     "metadata": {
      "needs_background": "light"
     },
     "output_type": "display_data"
    }
   ],
   "source": [
    "time_plot(stationary_df, 'date', 'sales_diff', 'Monthly Sales After Diff Transformation')"
   ]
  },
  {
   "cell_type": "markdown",
   "metadata": {},
   "source": [
    "# Observing Lags"
   ]
  },
  {
   "cell_type": "code",
   "execution_count": 55,
   "metadata": {},
   "outputs": [
    {
     "name": "stderr",
     "output_type": "stream",
     "text": [
      "c:\\Users\\MahmoodThe3rd\\anaconda3\\envs\\py39\\lib\\site-packages\\statsmodels\\graphics\\tsaplots.py:348: FutureWarning: The default method 'yw' can produce PACF values outside of the [-1,1] interval. After 0.13, the default will change tounadjusted Yule-Walker ('ywm'). You can use this method now by setting method='ywm'.\n",
      "  warnings.warn(\n"
     ]
    },
    {
     "data": {
      "image/png": "[encoded data removed]",
      "text/plain": [
       "<Figure size 864x360 with 3 Axes>"
      ]
     },
     "metadata": {
      "needs_background": "light"
     },
     "output_type": "display_data"
    }
   ],
   "source": [
    "def plots(data, lags=None):\n",
    "    \n",
    "    # Convert dataframe to datetime index\n",
    "    dt_data = data.set_index('date').drop('sales', axis=1)\n",
    "    dt_data.dropna(axis=0)\n",
    "    \n",
    "    layout = (1, 3)\n",
    "    raw  = plt.subplot2grid(layout, (0, 0))\n",
    "    acf  = plt.subplot2grid(layout, (0, 1))\n",
    "    pacf = plt.subplot2grid(layout, (0, 2))\n",
    "    \n",
    "    dt_data.plot(ax=raw, figsize=(12, 5), color='mediumblue')\n",
    "    smt.graphics.plot_acf(dt_data, lags=lags, ax=acf, color='mediumblue')\n",
    "    smt.graphics.plot_pacf(dt_data, lags=lags, ax=pacf, color='mediumblue')\n",
    "    sns.despine()\n",
    "    plt.tight_layout()\n",
    "\n",
    "plots(stationary_df, lags=24);"
   ]
  },
  {
   "cell_type": "markdown",
   "metadata": {},
   "source": [
    "# Preparing Dataset Modeling"
   ]
  },
  {
   "cell_type": "markdown",
   "metadata": {},
   "source": [
    "## Regressive Modeling"
   ]
  },
  {
   "cell_type": "code",
   "execution_count": 56,
   "metadata": {},
   "outputs": [],
   "source": [
    "#create dataframe for transformation from time series to supervised\n",
    "def generate_supervised(data):\n",
    "    supervised_df = data.copy()\n",
    "    \n",
    "    #create column for each lag\n",
    "    for i in range(1,13):\n",
    "        col_name = 'lag_' + str(i)\n",
    "        supervised_df[col_name] = supervised_df['sales_diff'].shift(i)\n",
    "    \n",
    "    #drop null values\n",
    "    supervised_df = supervised_df.dropna().reset_index(drop=True)\n",
    "    \n",
    "    supervised_df.to_csv('../data/model_df.csv', index=False)\n",
    "    \n",
    "    return supervised_df"
   ]
  },
  {
   "cell_type": "code",
   "execution_count": 57,
   "metadata": {},
   "outputs": [],
   "source": [
    "model_df = generate_supervised(stationary_df)"
   ]
  },
  {
   "cell_type": "code",
   "execution_count": 58,
   "metadata": {},
   "outputs": [
    {
     "data": {
      "text/html": [
       "<div>\n",
       "<style scoped>\n",
       "    .dataframe tbody tr th:only-of-type {\n",
       "        vertical-align: middle;\n",
       "    }\n",
       "\n",
       "    .dataframe tbody tr th {\n",
       "        vertical-align: top;\n",
       "    }\n",
       "\n",
       "    .dataframe thead th {\n",
       "        text-align: right;\n",
       "    }\n",
       "</style>\n",
       "<table border=\"1\" class=\"dataframe\">\n",
       "  <thead>\n",
       "    <tr style=\"text-align: right;\">\n",
       "      <th></th>\n",
       "      <th>date</th>\n",
       "      <th>sales</th>\n",
       "      <th>sales_diff</th>\n",
       "      <th>lag_1</th>\n",
       "      <th>lag_2</th>\n",
       "      <th>lag_3</th>\n",
       "      <th>lag_4</th>\n",
       "      <th>lag_5</th>\n",
       "      <th>lag_6</th>\n",
       "      <th>lag_7</th>\n",
       "      <th>lag_8</th>\n",
       "      <th>lag_9</th>\n",
       "      <th>lag_10</th>\n",
       "      <th>lag_11</th>\n",
       "      <th>lag_12</th>\n",
       "    </tr>\n",
       "  </thead>\n",
       "  <tbody>\n",
       "    <tr>\n",
       "      <th>0</th>\n",
       "      <td>2006-04-23</td>\n",
       "      <td>5067</td>\n",
       "      <td>-144.0</td>\n",
       "      <td>84.0</td>\n",
       "      <td>142.0</td>\n",
       "      <td>-159.0</td>\n",
       "      <td>182.0</td>\n",
       "      <td>-292.0</td>\n",
       "      <td>330.0</td>\n",
       "      <td>88.0</td>\n",
       "      <td>-178.0</td>\n",
       "      <td>90.0</td>\n",
       "      <td>-91.0</td>\n",
       "      <td>308.0</td>\n",
       "      <td>-158.0</td>\n",
       "    </tr>\n",
       "    <tr>\n",
       "      <th>1</th>\n",
       "      <td>2006-04-24</td>\n",
       "      <td>5409</td>\n",
       "      <td>342.0</td>\n",
       "      <td>-144.0</td>\n",
       "      <td>84.0</td>\n",
       "      <td>142.0</td>\n",
       "      <td>-159.0</td>\n",
       "      <td>182.0</td>\n",
       "      <td>-292.0</td>\n",
       "      <td>330.0</td>\n",
       "      <td>88.0</td>\n",
       "      <td>-178.0</td>\n",
       "      <td>90.0</td>\n",
       "      <td>-91.0</td>\n",
       "      <td>308.0</td>\n",
       "    </tr>\n",
       "    <tr>\n",
       "      <th>2</th>\n",
       "      <td>2006-04-25</td>\n",
       "      <td>5492</td>\n",
       "      <td>83.0</td>\n",
       "      <td>342.0</td>\n",
       "      <td>-144.0</td>\n",
       "      <td>84.0</td>\n",
       "      <td>142.0</td>\n",
       "      <td>-159.0</td>\n",
       "      <td>182.0</td>\n",
       "      <td>-292.0</td>\n",
       "      <td>330.0</td>\n",
       "      <td>88.0</td>\n",
       "      <td>-178.0</td>\n",
       "      <td>90.0</td>\n",
       "      <td>-91.0</td>\n",
       "    </tr>\n",
       "    <tr>\n",
       "      <th>3</th>\n",
       "      <td>2006-04-26</td>\n",
       "      <td>5550</td>\n",
       "      <td>58.0</td>\n",
       "      <td>83.0</td>\n",
       "      <td>342.0</td>\n",
       "      <td>-144.0</td>\n",
       "      <td>84.0</td>\n",
       "      <td>142.0</td>\n",
       "      <td>-159.0</td>\n",
       "      <td>182.0</td>\n",
       "      <td>-292.0</td>\n",
       "      <td>330.0</td>\n",
       "      <td>88.0</td>\n",
       "      <td>-178.0</td>\n",
       "      <td>90.0</td>\n",
       "    </tr>\n",
       "    <tr>\n",
       "      <th>4</th>\n",
       "      <td>2006-04-27</td>\n",
       "      <td>5530</td>\n",
       "      <td>-20.0</td>\n",
       "      <td>58.0</td>\n",
       "      <td>83.0</td>\n",
       "      <td>342.0</td>\n",
       "      <td>-144.0</td>\n",
       "      <td>84.0</td>\n",
       "      <td>142.0</td>\n",
       "      <td>-159.0</td>\n",
       "      <td>182.0</td>\n",
       "      <td>-292.0</td>\n",
       "      <td>330.0</td>\n",
       "      <td>88.0</td>\n",
       "      <td>-178.0</td>\n",
       "    </tr>\n",
       "    <tr>\n",
       "      <th>...</th>\n",
       "      <td>...</td>\n",
       "      <td>...</td>\n",
       "      <td>...</td>\n",
       "      <td>...</td>\n",
       "      <td>...</td>\n",
       "      <td>...</td>\n",
       "      <td>...</td>\n",
       "      <td>...</td>\n",
       "      <td>...</td>\n",
       "      <td>...</td>\n",
       "      <td>...</td>\n",
       "      <td>...</td>\n",
       "      <td>...</td>\n",
       "      <td>...</td>\n",
       "      <td>...</td>\n",
       "    </tr>\n",
       "    <tr>\n",
       "      <th>73</th>\n",
       "      <td>2006-07-05</td>\n",
       "      <td>4929</td>\n",
       "      <td>-177.0</td>\n",
       "      <td>-32.0</td>\n",
       "      <td>-1399.0</td>\n",
       "      <td>341.0</td>\n",
       "      <td>-254.0</td>\n",
       "      <td>-46.0</td>\n",
       "      <td>310.0</td>\n",
       "      <td>49.0</td>\n",
       "      <td>-403.0</td>\n",
       "      <td>147.0</td>\n",
       "      <td>165.0</td>\n",
       "      <td>-350.0</td>\n",
       "      <td>128.0</td>\n",
       "    </tr>\n",
       "    <tr>\n",
       "      <th>74</th>\n",
       "      <td>2006-07-06</td>\n",
       "      <td>5067</td>\n",
       "      <td>138.0</td>\n",
       "      <td>-177.0</td>\n",
       "      <td>-32.0</td>\n",
       "      <td>-1399.0</td>\n",
       "      <td>341.0</td>\n",
       "      <td>-254.0</td>\n",
       "      <td>-46.0</td>\n",
       "      <td>310.0</td>\n",
       "      <td>49.0</td>\n",
       "      <td>-403.0</td>\n",
       "      <td>147.0</td>\n",
       "      <td>165.0</td>\n",
       "      <td>-350.0</td>\n",
       "    </tr>\n",
       "    <tr>\n",
       "      <th>75</th>\n",
       "      <td>2006-07-07</td>\n",
       "      <td>4979</td>\n",
       "      <td>-88.0</td>\n",
       "      <td>138.0</td>\n",
       "      <td>-177.0</td>\n",
       "      <td>-32.0</td>\n",
       "      <td>-1399.0</td>\n",
       "      <td>341.0</td>\n",
       "      <td>-254.0</td>\n",
       "      <td>-46.0</td>\n",
       "      <td>310.0</td>\n",
       "      <td>49.0</td>\n",
       "      <td>-403.0</td>\n",
       "      <td>147.0</td>\n",
       "      <td>165.0</td>\n",
       "    </tr>\n",
       "    <tr>\n",
       "      <th>76</th>\n",
       "      <td>2006-07-08</td>\n",
       "      <td>5036</td>\n",
       "      <td>57.0</td>\n",
       "      <td>-88.0</td>\n",
       "      <td>138.0</td>\n",
       "      <td>-177.0</td>\n",
       "      <td>-32.0</td>\n",
       "      <td>-1399.0</td>\n",
       "      <td>341.0</td>\n",
       "      <td>-254.0</td>\n",
       "      <td>-46.0</td>\n",
       "      <td>310.0</td>\n",
       "      <td>49.0</td>\n",
       "      <td>-403.0</td>\n",
       "      <td>147.0</td>\n",
       "    </tr>\n",
       "    <tr>\n",
       "      <th>77</th>\n",
       "      <td>2006-07-09</td>\n",
       "      <td>5127</td>\n",
       "      <td>91.0</td>\n",
       "      <td>57.0</td>\n",
       "      <td>-88.0</td>\n",
       "      <td>138.0</td>\n",
       "      <td>-177.0</td>\n",
       "      <td>-32.0</td>\n",
       "      <td>-1399.0</td>\n",
       "      <td>341.0</td>\n",
       "      <td>-254.0</td>\n",
       "      <td>-46.0</td>\n",
       "      <td>310.0</td>\n",
       "      <td>49.0</td>\n",
       "      <td>-403.0</td>\n",
       "    </tr>\n",
       "  </tbody>\n",
       "</table>\n",
       "<p>78 rows × 15 columns</p>\n",
       "</div>"
      ],
      "text/plain": [
       "         date  sales  sales_diff  lag_1   lag_2   lag_3   lag_4   lag_5  \\\n",
       "0  2006-04-23   5067      -144.0   84.0   142.0  -159.0   182.0  -292.0   \n",
       "1  2006-04-24   5409       342.0 -144.0    84.0   142.0  -159.0   182.0   \n",
       "2  2006-04-25   5492        83.0  342.0  -144.0    84.0   142.0  -159.0   \n",
       "3  2006-04-26   5550        58.0   83.0   342.0  -144.0    84.0   142.0   \n",
       "4  2006-04-27   5530       -20.0   58.0    83.0   342.0  -144.0    84.0   \n",
       "..        ...    ...         ...    ...     ...     ...     ...     ...   \n",
       "73 2006-07-05   4929      -177.0  -32.0 -1399.0   341.0  -254.0   -46.0   \n",
       "74 2006-07-06   5067       138.0 -177.0   -32.0 -1399.0   341.0  -254.0   \n",
       "75 2006-07-07   4979       -88.0  138.0  -177.0   -32.0 -1399.0   341.0   \n",
       "76 2006-07-08   5036        57.0  -88.0   138.0  -177.0   -32.0 -1399.0   \n",
       "77 2006-07-09   5127        91.0   57.0   -88.0   138.0  -177.0   -32.0   \n",
       "\n",
       "     lag_6  lag_7  lag_8  lag_9  lag_10  lag_11  lag_12  \n",
       "0    330.0   88.0 -178.0   90.0   -91.0   308.0  -158.0  \n",
       "1   -292.0  330.0   88.0 -178.0    90.0   -91.0   308.0  \n",
       "2    182.0 -292.0  330.0   88.0  -178.0    90.0   -91.0  \n",
       "3   -159.0  182.0 -292.0  330.0    88.0  -178.0    90.0  \n",
       "4    142.0 -159.0  182.0 -292.0   330.0    88.0  -178.0  \n",
       "..     ...    ...    ...    ...     ...     ...     ...  \n",
       "73   310.0   49.0 -403.0  147.0   165.0  -350.0   128.0  \n",
       "74   -46.0  310.0   49.0 -403.0   147.0   165.0  -350.0  \n",
       "75  -254.0  -46.0  310.0   49.0  -403.0   147.0   165.0  \n",
       "76   341.0 -254.0  -46.0  310.0    49.0  -403.0   147.0  \n",
       "77 -1399.0  341.0 -254.0  -46.0   310.0    49.0  -403.0  \n",
       "\n",
       "[78 rows x 15 columns]"
      ]
     },
     "execution_count": 58,
     "metadata": {},
     "output_type": "execute_result"
    }
   ],
   "source": [
    "model_df"
   ]
  },
  {
   "cell_type": "markdown",
   "metadata": {},
   "source": [
    "## ARIMA Modeling"
   ]
  },
  {
   "cell_type": "code",
   "execution_count": 59,
   "metadata": {},
   "outputs": [],
   "source": [
    "def generate_arima_data(data):\n",
    "    dt_data = data.set_index('date').drop('sales', axis=1)\n",
    "    dt_data.dropna(axis=0)\n",
    "    \n",
    "    dt_data.to_csv('../data/arima_df.csv')\n",
    "    \n",
    "    return dt_data"
   ]
  },
  {
   "cell_type": "code",
   "execution_count": 60,
   "metadata": {},
   "outputs": [],
   "source": [
    "datetime_df = generate_arima_data(stationary_df)"
   ]
  },
  {
   "cell_type": "code",
   "execution_count": 61,
   "metadata": {},
   "outputs": [
    {
     "data": {
      "text/html": [
       "<div>\n",
       "<style scoped>\n",
       "    .dataframe tbody tr th:only-of-type {\n",
       "        vertical-align: middle;\n",
       "    }\n",
       "\n",
       "    .dataframe tbody tr th {\n",
       "        vertical-align: top;\n",
       "    }\n",
       "\n",
       "    .dataframe thead th {\n",
       "        text-align: right;\n",
       "    }\n",
       "</style>\n",
       "<table border=\"1\" class=\"dataframe\">\n",
       "  <thead>\n",
       "    <tr style=\"text-align: right;\">\n",
       "      <th></th>\n",
       "      <th>sales_diff</th>\n",
       "    </tr>\n",
       "    <tr>\n",
       "      <th>date</th>\n",
       "      <th></th>\n",
       "    </tr>\n",
       "  </thead>\n",
       "  <tbody>\n",
       "    <tr>\n",
       "      <th>2006-04-11</th>\n",
       "      <td>-158.0</td>\n",
       "    </tr>\n",
       "    <tr>\n",
       "      <th>2006-04-12</th>\n",
       "      <td>308.0</td>\n",
       "    </tr>\n",
       "    <tr>\n",
       "      <th>2006-04-13</th>\n",
       "      <td>-91.0</td>\n",
       "    </tr>\n",
       "    <tr>\n",
       "      <th>2006-04-14</th>\n",
       "      <td>90.0</td>\n",
       "    </tr>\n",
       "    <tr>\n",
       "      <th>2006-04-15</th>\n",
       "      <td>-178.0</td>\n",
       "    </tr>\n",
       "    <tr>\n",
       "      <th>...</th>\n",
       "      <td>...</td>\n",
       "    </tr>\n",
       "    <tr>\n",
       "      <th>2006-07-05</th>\n",
       "      <td>-177.0</td>\n",
       "    </tr>\n",
       "    <tr>\n",
       "      <th>2006-07-06</th>\n",
       "      <td>138.0</td>\n",
       "    </tr>\n",
       "    <tr>\n",
       "      <th>2006-07-07</th>\n",
       "      <td>-88.0</td>\n",
       "    </tr>\n",
       "    <tr>\n",
       "      <th>2006-07-08</th>\n",
       "      <td>57.0</td>\n",
       "    </tr>\n",
       "    <tr>\n",
       "      <th>2006-07-09</th>\n",
       "      <td>91.0</td>\n",
       "    </tr>\n",
       "  </tbody>\n",
       "</table>\n",
       "<p>90 rows × 1 columns</p>\n",
       "</div>"
      ],
      "text/plain": [
       "            sales_diff\n",
       "date                  \n",
       "2006-04-11      -158.0\n",
       "2006-04-12       308.0\n",
       "2006-04-13       -91.0\n",
       "2006-04-14        90.0\n",
       "2006-04-15      -178.0\n",
       "...                ...\n",
       "2006-07-05      -177.0\n",
       "2006-07-06       138.0\n",
       "2006-07-07       -88.0\n",
       "2006-07-08        57.0\n",
       "2006-07-09        91.0\n",
       "\n",
       "[90 rows x 1 columns]"
      ]
     },
     "execution_count": 61,
     "metadata": {},
     "output_type": "execute_result"
    }
   ],
   "source": [
    "datetime_df"
   ]
  },
  {
   "cell_type": "code",
   "execution_count": null,
   "metadata": {},
   "outputs": [],
   "source": []
  }
 ],
 "metadata": {
  "kernelspec": {
   "display_name": "Python 3.9.12 ('py39')",
   "language": "python",
   "name": "python3"
  },
  "language_info": {
   "codemirror_mode": {
    "name": "ipython",
    "version": 3
   },
   "file_extension": ".py",
   "mimetype": "text/x-python",
   "name": "python",
   "nbconvert_exporter": "python",
   "pygments_lexer": "ipython3",
   "version": "3.9.12"
  },
  "toc": {
   "base_numbering": 1,
   "nav_menu": {},
   "number_sections": true,
   "sideBar": true,
   "skip_h1_title": false,
   "title_cell": "Table of Contents",
   "title_sidebar": "Contents",
   "toc_cell": false,
   "toc_position": {
    "height": "calc(100% - 180px)",
    "left": "10px",
    "top": "150px",
    "width": "165px"
   },
   "toc_section_display": true,
   "toc_window_display": true
  },
  "vscode": {
   "interpreter": {
    "hash": "184e46435fe3cef709de6fec89e2ed9f7a4658d13bb443ae322ec113b130dd71"
   }
  }
 },
 "nbformat": 4,
 "nbformat_minor": 2
}
