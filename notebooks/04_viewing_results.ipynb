{
 "cells": [
  {
   "cell_type": "code",
   "execution_count": 1,
   "metadata": {},
   "outputs": [
    {
     "name": "stderr",
     "output_type": "stream",
     "text": [
      "c:\\Users\\MahmoodThe3rd\\anaconda3\\envs\\py39\\lib\\site-packages\\numpy\\_distributor_init.py:30: UserWarning: loaded more than 1 DLL from .libs:\n",
      "c:\\Users\\MahmoodThe3rd\\anaconda3\\envs\\py39\\lib\\site-packages\\numpy\\.libs\\libopenblas.EL2C6PLE4ZYW3ECEVIV3OXXGRN2NRFM2.gfortran-win_amd64.dll\n",
      "c:\\Users\\MahmoodThe3rd\\anaconda3\\envs\\py39\\lib\\site-packages\\numpy\\.libs\\libopenblas.FB5AE2TYXYH2IJRDKGDGQ3XBKLKTF43H.gfortran-win_amd64.dll\n",
      "  warnings.warn(\"loaded more than 1 DLL from .libs:\"\n"
     ]
    }
   ],
   "source": [
    "import pandas as pd\n",
    "import numpy as np\n",
    "\n",
    "import matplotlib.pyplot as plt\n",
    "import seaborn as sns\n",
    "%matplotlib inline\n",
    "\n",
    "import pickle"
   ]
  },
  {
   "cell_type": "markdown",
   "metadata": {},
   "source": [
    "# Create Results Dataframe"
   ]
  },
  {
   "cell_type": "code",
   "execution_count": 2,
   "metadata": {},
   "outputs": [],
   "source": [
    "def create_results_df():\n",
    "    results_dict = pickle.load(open(\"model_scores.p\", \"rb\"))\n",
    "    \n",
    "    results_dict.update(pickle.load(open(\"arima_model_scores.p\", \"rb\")))\n",
    "    \n",
    "    restults_df = pd.DataFrame.from_dict(results_dict, orient='index', \n",
    "                                        columns=['RMSE', 'MAE','R2'])\n",
    "    \n",
    "    restults_df = restults_df.sort_values(by='RMSE', ascending=False).reset_index()\n",
    "    \n",
    "    return restults_df"
   ]
  },
  {
   "cell_type": "code",
   "execution_count": 3,
   "metadata": {},
   "outputs": [
    {
     "data": {
      "text/html": [
       "<div>\n",
       "<style scoped>\n",
       "    .dataframe tbody tr th:only-of-type {\n",
       "        vertical-align: middle;\n",
       "    }\n",
       "\n",
       "    .dataframe tbody tr th {\n",
       "        vertical-align: top;\n",
       "    }\n",
       "\n",
       "    .dataframe thead th {\n",
       "        text-align: right;\n",
       "    }\n",
       "</style>\n",
       "<table border=\"1\" class=\"dataframe\">\n",
       "  <thead>\n",
       "    <tr style=\"text-align: right;\">\n",
       "      <th></th>\n",
       "      <th>index</th>\n",
       "      <th>RMSE</th>\n",
       "      <th>MAE</th>\n",
       "      <th>R2</th>\n",
       "    </tr>\n",
       "  </thead>\n",
       "  <tbody>\n",
       "    <tr>\n",
       "      <th>0</th>\n",
       "      <td>RandomForest</td>\n",
       "      <td>19100.745923</td>\n",
       "      <td>16510.166667</td>\n",
       "      <td>0.987126</td>\n",
       "    </tr>\n",
       "    <tr>\n",
       "      <th>1</th>\n",
       "      <td>LSTM</td>\n",
       "      <td>16359.349832</td>\n",
       "      <td>13306.583333</td>\n",
       "      <td>0.990557</td>\n",
       "    </tr>\n",
       "    <tr>\n",
       "      <th>2</th>\n",
       "      <td>LinearRegression</td>\n",
       "      <td>16221.040791</td>\n",
       "      <td>12433.000000</td>\n",
       "      <td>0.990716</td>\n",
       "    </tr>\n",
       "    <tr>\n",
       "      <th>3</th>\n",
       "      <td>XGBoost</td>\n",
       "      <td>15701.003360</td>\n",
       "      <td>13342.666667</td>\n",
       "      <td>0.991301</td>\n",
       "    </tr>\n",
       "    <tr>\n",
       "      <th>4</th>\n",
       "      <td>ARIMA</td>\n",
       "      <td>14959.893469</td>\n",
       "      <td>11265.335747</td>\n",
       "      <td>0.983564</td>\n",
       "    </tr>\n",
       "  </tbody>\n",
       "</table>\n",
       "</div>"
      ],
      "text/plain": [
       "              index          RMSE           MAE        R2\n",
       "0      RandomForest  19100.745923  16510.166667  0.987126\n",
       "1              LSTM  16359.349832  13306.583333  0.990557\n",
       "2  LinearRegression  16221.040791  12433.000000  0.990716\n",
       "3           XGBoost  15701.003360  13342.666667  0.991301\n",
       "4             ARIMA  14959.893469  11265.335747  0.983564"
      ]
     },
     "execution_count": 3,
     "metadata": {},
     "output_type": "execute_result"
    }
   ],
   "source": [
    "results = create_results_df()\n",
    "results"
   ]
  },
  {
   "cell_type": "markdown",
   "metadata": {},
   "source": [
    "# Plot Results"
   ]
  },
  {
   "cell_type": "code",
   "execution_count": 4,
   "metadata": {},
   "outputs": [],
   "source": [
    "def plot_results(results_df):\n",
    "    fig, ax = plt.subplots(figsize=(12, 5))\n",
    "    sns.lineplot(np.arange(len(results_df)), 'RMSE', data=results_df, ax=ax, \n",
    "                 label='RMSE', color='mediumblue')\n",
    "    sns.lineplot(np.arange(len(results_df)), 'MAE', data=results_df, ax=ax, \n",
    "                 label='MAE', color='Cyan')\n",
    "    \n",
    "    plt.xticks(np.arange(len(results_df)),rotation=45)\n",
    "    ax.set_xticklabels(results_df['index'])\n",
    "    ax.set(xlabel = \"Model\",\n",
    "           ylabel = \"Scores\",\n",
    "           title = \"Model Error Comparison\")\n",
    "    sns.despine()\n",
    "    \n",
    "    plt.savefig(f'../model_output/compare_models.png')"
   ]
  },
  {
   "cell_type": "code",
   "execution_count": 5,
   "metadata": {},
   "outputs": [
    {
     "name": "stderr",
     "output_type": "stream",
     "text": [
      "c:\\Users\\MahmoodThe3rd\\anaconda3\\envs\\py39\\lib\\site-packages\\seaborn\\_decorators.py:36: FutureWarning: Pass the following variables as keyword args: x, y. From version 0.12, the only valid positional argument will be `data`, and passing other arguments without an explicit keyword will result in an error or misinterpretation.\n",
      "  warnings.warn(\n",
      "c:\\Users\\MahmoodThe3rd\\anaconda3\\envs\\py39\\lib\\site-packages\\seaborn\\_decorators.py:36: FutureWarning: Pass the following variables as keyword args: x, y. From version 0.12, the only valid positional argument will be `data`, and passing other arguments without an explicit keyword will result in an error or misinterpretation.\n",
      "  warnings.warn(\n"
     ]
    },
    {
     "data": {
      "image/png": "[encoded data removed]",
      "text/plain": [
       "<Figure size 864x360 with 1 Axes>"
      ]
     },
     "metadata": {
      "needs_background": "light"
     },
     "output_type": "display_data"
    }
   ],
   "source": [
    "plot_results(results)"
   ]
  },
  {
   "cell_type": "code",
   "execution_count": 6,
   "metadata": {},
   "outputs": [
    {
     "name": "stdout",
     "output_type": "stream",
     "text": [
      "With XGBoost, prediction is within 1.3% of the actual.\n"
     ]
    }
   ],
   "source": [
    "average_monthly_sales = 894478 #see eda notebook\n",
    "gboost = 11649.666667\n",
    "percentage_off = round(gboost/average_monthly_sales*100, 2)\n",
    "\n",
    "print(f\"With XGBoost, prediction is within {percentage_off}% of the actual.\")"
   ]
  },
  {
   "cell_type": "code",
   "execution_count": null,
   "metadata": {},
   "outputs": [],
   "source": []
  }
 ],
 "metadata": {
  "kernelspec": {
   "display_name": "Python 3.9.12 ('py39')",
   "language": "python",
   "name": "python3"
  },
  "language_info": {
   "codemirror_mode": {
    "name": "ipython",
    "version": 3
   },
   "file_extension": ".py",
   "mimetype": "text/x-python",
   "name": "python",
   "nbconvert_exporter": "python",
   "pygments_lexer": "ipython3",
   "version": "3.9.12"
  },
  "toc": {
   "base_numbering": 1,
   "nav_menu": {},
   "number_sections": true,
   "sideBar": true,
   "skip_h1_title": false,
   "title_cell": "Table of Contents",
   "title_sidebar": "Contents",
   "toc_cell": false,
   "toc_position": {},
   "toc_section_display": true,
   "toc_window_display": true
  },
  "vscode": {
   "interpreter": {
    "hash": "184e46435fe3cef709de6fec89e2ed9f7a4658d13bb443ae322ec113b130dd71"
   }
  }
 },
 "nbformat": 4,
 "nbformat_minor": 2
}
